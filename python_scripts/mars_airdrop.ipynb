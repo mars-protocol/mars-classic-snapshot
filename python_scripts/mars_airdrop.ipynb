{
 "cells": [
  {
   "cell_type": "code",
   "execution_count": 5,
   "metadata": {
    "pycharm": {
     "is_executing": true
    }
   },
   "outputs": [],
   "source": [
    "import numpy as np\n",
    "import pandas as pd\n",
    "import requests\n",
    "import matplotlib.pyplot as plt\n",
    "%matplotlib inline \n",
    "\n",
    "pd.set_option('display.max_columns', None)  \n",
    "pd.set_option('display.max_rows', None) \n",
    "pd.set_option('display.max_colwidth', None)\n",
    "pd.options.display.float_format = '{:,.3f}'.format"
   ]
  },
  {
   "cell_type": "code",
   "execution_count": null,
   "metadata": {
    "pycharm": {
     "is_executing": true
    }
   },
   "outputs": [],
   "source": []
  },
  {
   "cell_type": "code",
   "execution_count": null,
   "metadata": {},
   "outputs": [],
   "source": []
  },
  {
   "cell_type": "code",
   "execution_count": null,
   "metadata": {},
   "outputs": [],
   "source": []
  },
  {
   "cell_type": "code",
   "execution_count": null,
   "metadata": {},
   "outputs": [],
   "source": []
  },
  {
   "cell_type": "code",
   "execution_count": null,
   "metadata": {},
   "outputs": [],
   "source": []
  },
  {
   "cell_type": "code",
   "execution_count": 10,
   "metadata": {
    "pycharm": {
     "is_executing": true
    }
   },
   "outputs": [],
   "source": [
    "SNAPSHOT_1 = 7544910\n",
    "SNAPSHOT_2 = 7816580"
   ]
  },
  {
   "cell_type": "markdown",
   "metadata": {},
   "source": [
    "## MARS AIRDROP CALCULATION \n"
   ]
  },
  {
   "cell_type": "code",
   "execution_count": 29,
   "metadata": {
    "pycharm": {
     "is_executing": true
    }
   },
   "outputs": [],
   "source": [
    "mars_staking_txs_DF =  pd.read_csv('./mars_staking_txs.csv')\n",
    "# mars_staking_txs_DF.head(3)\n",
    "\n"
   ]
  },
  {
   "cell_type": "code",
   "execution_count": null,
   "metadata": {},
   "outputs": [],
   "source": []
  },
  {
   "cell_type": "code",
   "execution_count": null,
   "metadata": {},
   "outputs": [],
   "source": []
  },
  {
   "cell_type": "code",
   "execution_count": 30,
   "metadata": {
    "pycharm": {
     "is_executing": true
    }
   },
   "outputs": [
    {
     "name": "stderr",
     "output_type": "stream",
     "text": [
      "/Users/rahulmittal/Desktop/DelphiDigital/MarsProtocol/mars-airdrop/venv/lib/python3.8/site-packages/pandas/core/frame.py:4308: SettingWithCopyWarning: \n",
      "A value is trying to be set on a copy of a slice from a DataFrame\n",
      "\n",
      "See the caveats in the documentation: https://pandas.pydata.org/pandas-docs/stable/user_guide/indexing.html#returning-a-view-versus-a-copy\n",
      "  return super().drop(\n"
     ]
    }
   ],
   "source": [
    "# MARS STAKING TXs :: AGGREGATE TXS\n",
    "mars_staking_txs_DF.drop_duplicates(subset=['TxHash'], inplace = True)\n",
    "mars_staking_txs_DF.sort_values('Block Height', inplace=True)\n",
    "_1_mars_staking_txs_DF_DF = mars_staking_txs_DF[mars_staking_txs_DF['Block Height'] <= SNAPSHOT_1] \n",
    "_2_mars_staking_txs_DF_DF = mars_staking_txs_DF[mars_staking_txs_DF['Block Height'] <= SNAPSHOT_2] \n",
    "# MARS STAKING TXs :: SNAPSHOT 1\n",
    "_1_mars_staking_txs_DF_DF.drop(['Block Height'],axis=1,inplace=True)\n",
    "_1_mars_staking_txs_DF_DF = _1_mars_staking_txs_DF_DF.groupby(['User Address']).agg( { \"MARS Claimed\":[np.sum],\"MARS Claimable\":[np.sum] } )\n",
    "_1_mars_staking_txs_DF_DF = _1_mars_staking_txs_DF_DF.droplevel(1, axis=1)\n",
    "# MARS STAKING TXs :: SNAPSHOT 2\n",
    "_2_mars_staking_txs_DF_DF.drop(['Block Height'],axis=1,inplace=True)\n",
    "_2_mars_staking_txs_DF_DF = _2_mars_staking_txs_DF_DF.groupby(['User Address']).agg( { \"MARS Claimed\":[np.sum],\"MARS Claimable\":[np.sum] } )\n",
    "_2_mars_staking_txs_DF_DF = _2_mars_staking_txs_DF_DF.droplevel(1, axis=1)\n",
    "\n"
   ]
  },
  {
   "cell_type": "code",
   "execution_count": 31,
   "metadata": {},
   "outputs": [],
   "source": [
    "_1_mars_staking_txs_DF_DF[\"MARS in Cooldown\"] = _1_mars_staking_txs_DF_DF.apply(lambda x: int(x[\"MARS Claimable\"]) - int(x[\"MARS Claimed\"]), axis=1)\n",
    "_1_mars_staking_txs_DF_DF = _1_mars_staking_txs_DF_DF[ _1_mars_staking_txs_DF_DF[\"MARS in Cooldown\"] > 0 ]\n",
    "_1_mars_staking_txs_DF_DF.drop(['MARS Claimable','MARS Claimed'],axis=1,inplace=True)\n",
    "\n",
    "_2_mars_staking_txs_DF_DF[\"MARS in Cooldown\"] = _2_mars_staking_txs_DF_DF.apply(lambda x: int(x[\"MARS Claimable\"]) - int(x[\"MARS Claimed\"]), axis=1)\n",
    "_2_mars_staking_txs_DF_DF = _2_mars_staking_txs_DF_DF[ _2_mars_staking_txs_DF_DF[\"MARS in Cooldown\"] > 0 ]\n",
    "_2_mars_staking_txs_DF_DF.drop(['MARS Claimable','MARS Claimed'],axis=1,inplace=True)\n",
    "\n"
   ]
  },
  {
   "cell_type": "code",
   "execution_count": 32,
   "metadata": {},
   "outputs": [
    {
     "name": "stdout",
     "output_type": "stream",
     "text": [
      "MARS in Cooldown, Snapshot 1 = 2342514.607 Snapshot 2 = 3354155.776075 \n"
     ]
    }
   ],
   "source": [
    "\n",
    "_1_total_in_cooldown = _1_mars_staking_txs_DF_DF[\"MARS in Cooldown\"].sum()\n",
    "_2_total_in_cooldown = _2_mars_staking_txs_DF_DF[\"MARS in Cooldown\"].sum()\n",
    "\n",
    "print(f\"MARS in Cooldown, Snapshot 1 = {_1_total_in_cooldown/10**6} Snapshot 2 = {_2_total_in_cooldown/10**6} \")\n"
   ]
  },
  {
   "cell_type": "code",
   "execution_count": 33,
   "metadata": {},
   "outputs": [],
   "source": [
    "_1_mars_staking_txs_DF_DF.to_csv(\"mars_cooldown_7544910.csv\", index = True)\n",
    "_2_mars_staking_txs_DF_DF.to_csv(\"mars_cooldown_7816580.csv\", index = True)\n"
   ]
  },
  {
   "cell_type": "code",
   "execution_count": null,
   "metadata": {
    "pycharm": {
     "is_executing": true
    }
   },
   "outputs": [],
   "source": []
  }
 ],
 "metadata": {
  "kernelspec": {
   "display_name": "Python 3",
   "language": "python",
   "name": "python3"
  },
  "language_info": {
   "codemirror_mode": {
    "name": "ipython",
    "version": 3
   },
   "file_extension": ".py",
   "mimetype": "text/x-python",
   "name": "python",
   "nbconvert_exporter": "python",
   "pygments_lexer": "ipython3",
   "version": "3.8.2"
  }
 },
 "nbformat": 4,
 "nbformat_minor": 1
}